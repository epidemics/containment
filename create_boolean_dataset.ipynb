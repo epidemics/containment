{
 "cells": [
  {
   "cell_type": "code",
   "execution_count": 162,
   "metadata": {},
   "outputs": [],
   "source": [
    "import numpy as np\n",
    "import pandas as pd\n",
    "from scipy.stats import gamma\n",
    "DATE = '2020_04_08'"
   ]
  },
  {
   "cell_type": "code",
   "execution_count": 163,
   "metadata": {},
   "outputs": [],
   "source": [
    "data = pd.read_csv(f'countermeasures_features_{DATE}.csv').drop(columns='Unnamed: 0').fillna(0)\n"
   ]
  },
  {
   "cell_type": "code",
   "execution_count": 164,
   "metadata": {},
   "outputs": [],
   "source": [
    "def gatherings(n):\n",
    "    if n == np.nan:\n",
    "        return 0\n",
    "    elif n == 0:\n",
    "        return 0\n",
    "    return 1/(1+np.exp(-4+np.log(n)))\n",
    "\n",
    "\n",
    "def curfew(n):\n",
    "    if n < 1:\n",
    "        return 0\n",
    "    elif n<2:\n",
    "        return 0.5\n",
    "    return 1\n",
    "\n",
    "def norm(maximum):\n",
    "    def f(n):\n",
    "        return n/maximum\n",
    "    return f\n",
    "\n",
    "def masks(n):\n",
    "    if n==0:\n",
    "        return np.nan\n",
    "    return n/100\n",
    "# def nj2us(s):\n",
    "#     if s=='US:New Jersey':\n",
    "#         return 'United States'\n",
    "#     return s\n",
    "\n",
    "REPORTCOLS1 = {'Gatherings limited to':('Gatherings banned',gatherings),\n",
    "              'Business suspended':('Nonessential business suspension',norm(1)),\n",
    "              'Schools and universities closed':('School closure',lambda x: x>=1),\n",
    "              'General curfew':('Asymptomatic isolation - blanket',curfew),\n",
    "              'Healthcare specialisation':('Healthcare specialisation',norm(7)),\n",
    "              'Minor distancing and hygiene measures':('Social distancing and hygiene advice',norm(12)),\n",
    "              'Phone line':('Phone hotline',norm(1)),\n",
    "              'Mask wearing':('Mask wearing',masks),\n",
    "              'Asymptomatic contact isolation':('Asymptomatic isolation - targeted',lambda x: x>=1)}\n",
    "\n",
    "data0 = data.copy()\n",
    "\n",
    "# US_STATES = data0['Country'][data0['Country'].str.startswith('US:')].unique()\n",
    "\n",
    "# data0['Country'] = data0['Country'].apply(nj2us)\n",
    "# data0.loc[data['Country']=='United States',\n",
    "#                   data0.columns[:-1]] = data0.loc[data['Country'].isin(US_STATES),:].groupby('Date').mean()\n",
    "\n",
    "# data0 = data0[~data0['Country'].str.startswith('US:')]\n",
    "\n",
    "for rc, (vc, f) in REPORTCOLS1.items():\n",
    "    data0[rc] = data0[vc].apply(f).astype(float)\n",
    "    \n",
    "outdata = data0[list(REPORTCOLS1.keys())+['Country','Date']]\n",
    "outdata.to_csv(f'interventions_model_zeroto1_{DATE}.csv')"
   ]
  },
  {
   "cell_type": "code",
   "execution_count": 43,
   "metadata": {},
   "outputs": [
    {
     "data": {
      "text/plain": [
       "array(['Austria', 'Germany', 'United Kingdom', 'South Korea', 'Singapore',\n",
       "       'Israel', 'Japan', 'Sweden', 'San Marino', 'Slovenia', 'Canada',\n",
       "       'Hong Kong', 'Taiwan', 'China', 'Italy', 'Czechia', 'Australia',\n",
       "       'Romania', 'France', 'Portugal', 'Spain', 'Belgium', 'Luxembourg',\n",
       "       'Albania', 'Andorra', 'Belarus', 'Bosnia and Herzegovina',\n",
       "       'Bulgaria', 'Denmark', 'Estonia', 'Cyprus', 'Croatia', 'Finland',\n",
       "       'Georgia', 'Hungary', 'Latvia', 'Lithuania', 'Greece', 'Moldova',\n",
       "       'Malta', 'Monaco', 'Netherlands', 'Iceland', 'Macedonia',\n",
       "       'Ireland', 'Vatican City', 'Kazakhstan', 'Poland', 'Turkey',\n",
       "       'Ukraine', 'Slovakia', 'Serbia', 'Switzerland', 'Norway',\n",
       "       'Montenegro', 'Iran', 'Liechtenstein', 'Russia', 'Mexico', 'Egypt',\n",
       "       'Palestine', 'Nepal', 'Iraq', 'South Africa', 'Namibia', 'Morocco',\n",
       "       'Uganda'], dtype=object)"
      ]
     },
     "execution_count": 43,
     "metadata": {},
     "output_type": "execute_result"
    }
   ],
   "source": [
    "data0['Country'].unique()"
   ]
  },
  {
   "cell_type": "code",
   "execution_count": 44,
   "metadata": {},
   "outputs": [
    {
     "data": {
      "text/plain": [
       "1.5811388300841898"
      ]
     },
     "execution_count": 44,
     "metadata": {},
     "output_type": "execute_result"
    }
   ],
   "source": [
    "np.sqrt(2.5)"
   ]
  },
  {
   "cell_type": "code",
   "execution_count": 45,
   "metadata": {},
   "outputs": [
    {
     "data": {
      "text/plain": [
       "1.4142135623730951"
      ]
     },
     "execution_count": 45,
     "metadata": {},
     "output_type": "execute_result"
    }
   ],
   "source": [
    "np.sqrt(2)"
   ]
  },
  {
   "cell_type": "code",
   "execution_count": 46,
   "metadata": {},
   "outputs": [
    {
     "data": {
      "text/plain": [
       "0.8749999999999999"
      ]
     },
     "execution_count": 46,
     "metadata": {},
     "output_type": "execute_result"
    }
   ],
   "source": [
    "1.4/1.6"
   ]
  },
  {
   "cell_type": "code",
   "execution_count": 161,
   "metadata": {},
   "outputs": [
    {
     "data": {
      "text/plain": [
       "(0.9646631559719038, 0.35316172943491847, 0.05177152077445643)"
      ]
     },
     "execution_count": 161,
     "metadata": {},
     "output_type": "execute_result"
    }
   ],
   "source": [
    "gatherings(2),gatherings(100),gatherings(1000)"
   ]
  },
  {
   "cell_type": "code",
   "execution_count": 166,
   "metadata": {},
   "outputs": [],
   "source": [
    "q = outdata[outdata.columns[:-2]]"
   ]
  },
  {
   "cell_type": "code",
   "execution_count": 167,
   "metadata": {},
   "outputs": [],
   "source": [
    "v = np.array([gamma.pdf(i,3,0,3) for i in range(1,16)])"
   ]
  },
  {
   "cell_type": "code",
   "execution_count": 168,
   "metadata": {},
   "outputs": [],
   "source": [
    "v = v/v.sum()"
   ]
  },
  {
   "cell_type": "code",
   "execution_count": 169,
   "metadata": {},
   "outputs": [
    {
     "data": {
      "text/plain": [
       "6.673588535539523"
      ]
     },
     "execution_count": 169,
     "metadata": {},
     "output_type": "execute_result"
    }
   ],
   "source": [
    "np.array([i*p for i,p in enumerate(v)]).sum()"
   ]
  },
  {
   "cell_type": "code",
   "execution_count": 170,
   "metadata": {},
   "outputs": [
    {
     "data": {
      "text/plain": [
       "array([0.01492811, 0.04278584, 0.06897913, 0.08786792, 0.09837518,\n",
       "       0.10150402, 0.09899471, 0.09264693, 0.08401779, 0.07432269,\n",
       "       0.06443799, 0.0549483 , 0.04620762, 0.03839885, 0.03158492])"
      ]
     },
     "execution_count": 170,
     "metadata": {},
     "output_type": "execute_result"
    }
   ],
   "source": [
    "v"
   ]
  },
  {
   "cell_type": "code",
   "execution_count": 171,
   "metadata": {},
   "outputs": [],
   "source": [
    "a = np.apply_along_axis(lambda m: np.convolve(m,v),arr=q,axis=0)"
   ]
  },
  {
   "cell_type": "code",
   "execution_count": 172,
   "metadata": {},
   "outputs": [
    {
     "data": {
      "text/html": [
       "<div>\n",
       "<style scoped>\n",
       "    .dataframe tbody tr th:only-of-type {\n",
       "        vertical-align: middle;\n",
       "    }\n",
       "\n",
       "    .dataframe tbody tr th {\n",
       "        vertical-align: top;\n",
       "    }\n",
       "\n",
       "    .dataframe thead th {\n",
       "        text-align: right;\n",
       "    }\n",
       "</style>\n",
       "<table border=\"1\" class=\"dataframe\">\n",
       "  <thead>\n",
       "    <tr style=\"text-align: right;\">\n",
       "      <th></th>\n",
       "      <th>Gatherings limited to</th>\n",
       "      <th>Business suspended</th>\n",
       "      <th>Schools and universities closed</th>\n",
       "      <th>General curfew</th>\n",
       "      <th>Healthcare specialisation</th>\n",
       "      <th>Minor distancing and hygiene measures</th>\n",
       "      <th>Phone line</th>\n",
       "      <th>Mask wearing</th>\n",
       "      <th>Asymptomatic contact isolation</th>\n",
       "    </tr>\n",
       "  </thead>\n",
       "  <tbody>\n",
       "    <tr>\n",
       "      <th>Gatherings limited to</th>\n",
       "      <td>1.000000</td>\n",
       "      <td>0.970167</td>\n",
       "      <td>0.935434</td>\n",
       "      <td>0.872089</td>\n",
       "      <td>0.651876</td>\n",
       "      <td>0.401228</td>\n",
       "      <td>0.293766</td>\n",
       "      <td>NaN</td>\n",
       "      <td>0.462904</td>\n",
       "    </tr>\n",
       "    <tr>\n",
       "      <th>Business suspended</th>\n",
       "      <td>0.970167</td>\n",
       "      <td>1.000000</td>\n",
       "      <td>0.896054</td>\n",
       "      <td>0.858473</td>\n",
       "      <td>0.684357</td>\n",
       "      <td>0.408356</td>\n",
       "      <td>0.250482</td>\n",
       "      <td>NaN</td>\n",
       "      <td>0.477891</td>\n",
       "    </tr>\n",
       "    <tr>\n",
       "      <th>Schools and universities closed</th>\n",
       "      <td>0.935434</td>\n",
       "      <td>0.896054</td>\n",
       "      <td>1.000000</td>\n",
       "      <td>0.862529</td>\n",
       "      <td>0.649073</td>\n",
       "      <td>0.443999</td>\n",
       "      <td>0.409257</td>\n",
       "      <td>NaN</td>\n",
       "      <td>0.534969</td>\n",
       "    </tr>\n",
       "    <tr>\n",
       "      <th>General curfew</th>\n",
       "      <td>0.872089</td>\n",
       "      <td>0.858473</td>\n",
       "      <td>0.862529</td>\n",
       "      <td>1.000000</td>\n",
       "      <td>0.773022</td>\n",
       "      <td>0.650881</td>\n",
       "      <td>0.560868</td>\n",
       "      <td>NaN</td>\n",
       "      <td>0.695792</td>\n",
       "    </tr>\n",
       "    <tr>\n",
       "      <th>Healthcare specialisation</th>\n",
       "      <td>0.651876</td>\n",
       "      <td>0.684357</td>\n",
       "      <td>0.649073</td>\n",
       "      <td>0.773022</td>\n",
       "      <td>1.000000</td>\n",
       "      <td>0.854936</td>\n",
       "      <td>0.654429</td>\n",
       "      <td>NaN</td>\n",
       "      <td>0.876664</td>\n",
       "    </tr>\n",
       "    <tr>\n",
       "      <th>Minor distancing and hygiene measures</th>\n",
       "      <td>0.401228</td>\n",
       "      <td>0.408356</td>\n",
       "      <td>0.443999</td>\n",
       "      <td>0.650881</td>\n",
       "      <td>0.854936</td>\n",
       "      <td>1.000000</td>\n",
       "      <td>0.755849</td>\n",
       "      <td>NaN</td>\n",
       "      <td>0.882521</td>\n",
       "    </tr>\n",
       "    <tr>\n",
       "      <th>Phone line</th>\n",
       "      <td>0.293766</td>\n",
       "      <td>0.250482</td>\n",
       "      <td>0.409257</td>\n",
       "      <td>0.560868</td>\n",
       "      <td>0.654429</td>\n",
       "      <td>0.755849</td>\n",
       "      <td>1.000000</td>\n",
       "      <td>NaN</td>\n",
       "      <td>0.706327</td>\n",
       "    </tr>\n",
       "    <tr>\n",
       "      <th>Mask wearing</th>\n",
       "      <td>NaN</td>\n",
       "      <td>NaN</td>\n",
       "      <td>NaN</td>\n",
       "      <td>NaN</td>\n",
       "      <td>NaN</td>\n",
       "      <td>NaN</td>\n",
       "      <td>NaN</td>\n",
       "      <td>1.0</td>\n",
       "      <td>NaN</td>\n",
       "    </tr>\n",
       "    <tr>\n",
       "      <th>Asymptomatic contact isolation</th>\n",
       "      <td>0.462904</td>\n",
       "      <td>0.477891</td>\n",
       "      <td>0.534969</td>\n",
       "      <td>0.695792</td>\n",
       "      <td>0.876664</td>\n",
       "      <td>0.882521</td>\n",
       "      <td>0.706327</td>\n",
       "      <td>NaN</td>\n",
       "      <td>1.000000</td>\n",
       "    </tr>\n",
       "  </tbody>\n",
       "</table>\n",
       "</div>"
      ],
      "text/plain": [
       "                                       Gatherings limited to  \\\n",
       "Gatherings limited to                               1.000000   \n",
       "Business suspended                                  0.970167   \n",
       "Schools and universities closed                     0.935434   \n",
       "General curfew                                      0.872089   \n",
       "Healthcare specialisation                           0.651876   \n",
       "Minor distancing and hygiene measures               0.401228   \n",
       "Phone line                                          0.293766   \n",
       "Mask wearing                                             NaN   \n",
       "Asymptomatic contact isolation                      0.462904   \n",
       "\n",
       "                                       Business suspended  \\\n",
       "Gatherings limited to                            0.970167   \n",
       "Business suspended                               1.000000   \n",
       "Schools and universities closed                  0.896054   \n",
       "General curfew                                   0.858473   \n",
       "Healthcare specialisation                        0.684357   \n",
       "Minor distancing and hygiene measures            0.408356   \n",
       "Phone line                                       0.250482   \n",
       "Mask wearing                                          NaN   \n",
       "Asymptomatic contact isolation                   0.477891   \n",
       "\n",
       "                                       Schools and universities closed  \\\n",
       "Gatherings limited to                                         0.935434   \n",
       "Business suspended                                            0.896054   \n",
       "Schools and universities closed                               1.000000   \n",
       "General curfew                                                0.862529   \n",
       "Healthcare specialisation                                     0.649073   \n",
       "Minor distancing and hygiene measures                         0.443999   \n",
       "Phone line                                                    0.409257   \n",
       "Mask wearing                                                       NaN   \n",
       "Asymptomatic contact isolation                                0.534969   \n",
       "\n",
       "                                       General curfew  \\\n",
       "Gatherings limited to                        0.872089   \n",
       "Business suspended                           0.858473   \n",
       "Schools and universities closed              0.862529   \n",
       "General curfew                               1.000000   \n",
       "Healthcare specialisation                    0.773022   \n",
       "Minor distancing and hygiene measures        0.650881   \n",
       "Phone line                                   0.560868   \n",
       "Mask wearing                                      NaN   \n",
       "Asymptomatic contact isolation               0.695792   \n",
       "\n",
       "                                       Healthcare specialisation  \\\n",
       "Gatherings limited to                                   0.651876   \n",
       "Business suspended                                      0.684357   \n",
       "Schools and universities closed                         0.649073   \n",
       "General curfew                                          0.773022   \n",
       "Healthcare specialisation                               1.000000   \n",
       "Minor distancing and hygiene measures                   0.854936   \n",
       "Phone line                                              0.654429   \n",
       "Mask wearing                                                 NaN   \n",
       "Asymptomatic contact isolation                          0.876664   \n",
       "\n",
       "                                       Minor distancing and hygiene measures  \\\n",
       "Gatherings limited to                                               0.401228   \n",
       "Business suspended                                                  0.408356   \n",
       "Schools and universities closed                                     0.443999   \n",
       "General curfew                                                      0.650881   \n",
       "Healthcare specialisation                                           0.854936   \n",
       "Minor distancing and hygiene measures                               1.000000   \n",
       "Phone line                                                          0.755849   \n",
       "Mask wearing                                                             NaN   \n",
       "Asymptomatic contact isolation                                      0.882521   \n",
       "\n",
       "                                       Phone line  Mask wearing  \\\n",
       "Gatherings limited to                    0.293766           NaN   \n",
       "Business suspended                       0.250482           NaN   \n",
       "Schools and universities closed          0.409257           NaN   \n",
       "General curfew                           0.560868           NaN   \n",
       "Healthcare specialisation                0.654429           NaN   \n",
       "Minor distancing and hygiene measures    0.755849           NaN   \n",
       "Phone line                               1.000000           NaN   \n",
       "Mask wearing                                  NaN           1.0   \n",
       "Asymptomatic contact isolation           0.706327           NaN   \n",
       "\n",
       "                                       Asymptomatic contact isolation  \n",
       "Gatherings limited to                                        0.462904  \n",
       "Business suspended                                           0.477891  \n",
       "Schools and universities closed                              0.534969  \n",
       "General curfew                                               0.695792  \n",
       "Healthcare specialisation                                    0.876664  \n",
       "Minor distancing and hygiene measures                        0.882521  \n",
       "Phone line                                                   0.706327  \n",
       "Mask wearing                                                      NaN  \n",
       "Asymptomatic contact isolation                               1.000000  "
      ]
     },
     "execution_count": 172,
     "metadata": {},
     "output_type": "execute_result"
    }
   ],
   "source": [
    "pd.DataFrame(a,columns=q.columns).corr()"
   ]
  },
  {
   "cell_type": "code",
   "execution_count": 165,
   "metadata": {},
   "outputs": [
    {
     "data": {
      "text/plain": [
       "array([0. , 0.5, 1. ])"
      ]
     },
     "execution_count": 165,
     "metadata": {},
     "output_type": "execute_result"
    }
   ],
   "source": [
    "outdata['Business suspended'].unique()"
   ]
  },
  {
   "cell_type": "code",
   "execution_count": 174,
   "metadata": {},
   "outputs": [
    {
     "data": {
      "text/plain": [
       "array([0. , 0.5, 1. ])"
      ]
     },
     "execution_count": 174,
     "metadata": {},
     "output_type": "execute_result"
    }
   ],
   "source": [
    "outdata['General curfew'].unique()"
   ]
  },
  {
   "cell_type": "code",
   "execution_count": 175,
   "metadata": {},
   "outputs": [
    {
     "data": {
      "text/plain": [
       "array([0., 1.])"
      ]
     },
     "execution_count": 175,
     "metadata": {},
     "output_type": "execute_result"
    }
   ],
   "source": [
    "outdata['Asymptomatic contact isolation'].unique()"
   ]
  },
  {
   "cell_type": "code",
   "execution_count": null,
   "metadata": {},
   "outputs": [],
   "source": []
  }
 ],
 "metadata": {
  "kernelspec": {
   "display_name": "Python 3",
   "language": "python",
   "name": "python3"
  },
  "language_info": {
   "codemirror_mode": {
    "name": "ipython",
    "version": 3
   },
   "file_extension": ".py",
   "mimetype": "text/x-python",
   "name": "python",
   "nbconvert_exporter": "python",
   "pygments_lexer": "ipython3",
   "version": "3.7.6"
  }
 },
 "nbformat": 4,
 "nbformat_minor": 4
}

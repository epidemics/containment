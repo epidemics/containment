{
 "cells": [
  {
   "cell_type": "markdown",
   "metadata": {},
   "source": [
    "***Execute export-countermeasure-tags.ipynb before running this notebook.***"
   ]
  },
  {
   "cell_type": "code",
   "execution_count": 1,
   "metadata": {},
   "outputs": [],
   "source": [
    "import re\n",
    "import json\n",
    "\n",
    "import pandas as pd\n",
    "from notion.block import CollectionViewBlock\n",
    "\n",
    "import helpers"
   ]
  },
  {
   "cell_type": "code",
   "execution_count": 2,
   "metadata": {},
   "outputs": [],
   "source": [
    "MEASURES_DB_URL = 'https://www.notion.so/977d5e5be0434bf996704ec361ad621d?v=fe54f89ca9e04ac799af42b39e1efc4b'\n",
    "COMPLETENESS_DB_URL = 'https://www.notion.so/dbf0f4ffc03f4417a16d65a6d08eea69?v=845ef4baafd44e72b9c483381b90caae'"
   ]
  },
  {
   "cell_type": "code",
   "execution_count": 3,
   "metadata": {},
   "outputs": [],
   "source": [
    "client = helpers.get_notion_client()"
   ]
  },
  {
   "cell_type": "code",
   "execution_count": 4,
   "metadata": {},
   "outputs": [],
   "source": [
    "tags = pd.read_csv('data/various/countermeasure-tags.csv')"
   ]
  },
  {
   "cell_type": "code",
   "execution_count": 5,
   "metadata": {},
   "outputs": [],
   "source": [
    "measures_db = client.get_block(MEASURES_DB_URL)\n",
    "completeness_db = client.get_block(COMPLETENESS_DB_URL)"
   ]
  },
  {
   "cell_type": "code",
   "execution_count": 6,
   "metadata": {},
   "outputs": [],
   "source": [
    "# Notion API seems to take a long time with large tables, but it caches results\n",
    "measures = helpers.df_from_notion_table(measures_db)"
   ]
  },
  {
   "cell_type": "code",
   "execution_count": 7,
   "metadata": {},
   "outputs": [],
   "source": [
    "completeness = helpers.df_from_notion_table(\n",
    "    completeness_db)[['country', 'complete_up_to_date']].dropna()"
   ]
  },
  {
   "cell_type": "code",
   "execution_count": 8,
   "metadata": {},
   "outputs": [],
   "source": [
    "measures = measures.merge(completeness, on='country')"
   ]
  },
  {
   "cell_type": "code",
   "execution_count": 9,
   "metadata": {},
   "outputs": [],
   "source": [
    "measures = measures[measures.keywords.apply(len) > 0].copy()"
   ]
  },
  {
   "cell_type": "code",
   "execution_count": 10,
   "metadata": {},
   "outputs": [
    {
     "data": {
      "text/plain": [
       "1973"
      ]
     },
     "execution_count": 10,
     "metadata": {},
     "output_type": "execute_result"
    }
   ],
   "source": [
    "measures.keywords.apply(len).sum()"
   ]
  },
  {
   "cell_type": "code",
   "execution_count": 11,
   "metadata": {},
   "outputs": [
    {
     "data": {
      "text/plain": [
       "1293"
      ]
     },
     "execution_count": 11,
     "metadata": {},
     "output_type": "execute_result"
    }
   ],
   "source": [
    "len(measures)"
   ]
  },
  {
   "cell_type": "code",
   "execution_count": 12,
   "metadata": {},
   "outputs": [
    {
     "data": {
      "text/plain": [
       "target_region                                                                        []\n",
       "source                                https://www.hongkongfp.com/2020/03/21/breaking...\n",
       "keywords                              [public mask and hygiene supply, social distan...\n",
       "country                                                                       Hong Kong\n",
       "date_end_intended                     <notion.collection.NotionDate object at 0x11e2...\n",
       "implementing_state_province                                                          []\n",
       "target_state                                                                           \n",
       "implementing_city_municipality                                                       []\n",
       "target_city                                                                            \n",
       "applies_to                                                                             \n",
       "date_start                                                          2020-03-21 00:00:00\n",
       "exceptions                                                                             \n",
       "description_of_measure_implemented    - The exams for the Hong Kong Diploma of Secon...\n",
       "quantity                                                                            NaN\n",
       "target_country                                                                       []\n",
       "id                                                                                     \n",
       "complete_up_to_date                                                 2020-03-27 00:00:00\n",
       "Name: 262, dtype: object"
      ]
     },
     "execution_count": 12,
     "metadata": {},
     "output_type": "execute_result"
    }
   ],
   "source": [
    "measures.loc[262]"
   ]
  },
  {
   "cell_type": "code",
   "execution_count": 13,
   "metadata": {},
   "outputs": [
    {
     "data": {
      "text/plain": [
       "0       163\n",
       "3       772\n",
       "4       760\n",
       "5       761\n",
       "6       759\n",
       "       ... \n",
       "1324    298\n",
       "1325    354\n",
       "1326    343\n",
       "1327    344\n",
       "1328    347\n",
       "Name: id, Length: 722, dtype: object"
      ]
     },
     "execution_count": 13,
     "metadata": {},
     "output_type": "execute_result"
    }
   ],
   "source": [
    "measures.id.apply(lambda x: None if len(x) == 0 else x).dropna()"
   ]
  },
  {
   "cell_type": "code",
   "execution_count": 14,
   "metadata": {},
   "outputs": [],
   "source": [
    "fields_to_use, renamed_fields = (list(cols) for cols in zip(\n",
    "#     ('id', 'id'), # not reliable\n",
    "    ('country', 'country'),\n",
    "#     # maybe worth adding these:\n",
    "#     ('implementing_state_province', 'state_or_province'),\n",
    "#     ('implementing_city_municipality', 'municipality'),\n",
    "#     ('target_country', 'target_country'),\n",
    "    ('description_of_measure_implemented', 'description'),\n",
    "    ('source', 'source'),\n",
    "    ('date_start', 'start_date'),\n",
    "    ('date_end_intended', 'end_date'),\n",
    "    ('quantity', 'quantity'),\n",
    "    ('keywords', 'tags')\n",
    "))\n",
    "\n",
    "# other columns were not include b/c too few rows have\n",
    "# data to bother programming them into the frontend"
   ]
  },
  {
   "cell_type": "code",
   "execution_count": 15,
   "metadata": {},
   "outputs": [],
   "source": [
    "measures = measures[fields_to_use].copy()\n",
    "measures.columns = renamed_fields"
   ]
  },
  {
   "cell_type": "code",
   "execution_count": 16,
   "metadata": {},
   "outputs": [],
   "source": [
    "def expand_tags(measures):\n",
    "    tagged_rows = []\n",
    "    for _, measure in measures.iterrows():\n",
    "        for tag in measure['tags']:\n",
    "            row = dict(tag=tag, **measure.to_dict())\n",
    "            del row['tags']\n",
    "            tagged_rows.append(row)\n",
    "    return pd.DataFrame(tagged_rows)"
   ]
  },
  {
   "cell_type": "code",
   "execution_count": 17,
   "metadata": {},
   "outputs": [],
   "source": [
    "measures = expand_tags(measures)"
   ]
  },
  {
   "cell_type": "code",
   "execution_count": 19,
   "metadata": {},
   "outputs": [],
   "source": [
    "def get_default_quantities():\n",
    "    quant_map = tags[['tag', 'quantity']].drop_duplicates(subset=['tag'], keep='last')\n",
    "    quantities = quant_map.quantity[\n",
    "        quant_map.quantity.str.match(r'[\\d.]+').fillna(False)].astype('f')\n",
    "    quant_map['quantity'] = None\n",
    "    quant_map.quantity.fillna(quantities, inplace=True)\n",
    "    return quant_map"
   ]
  },
  {
   "cell_type": "code",
   "execution_count": 20,
   "metadata": {},
   "outputs": [],
   "source": [
    "measures = measures.merge(get_default_quantities(), on='tag', suffixes=('_measure', ''))\n",
    "\n",
    "measures.quantity.fillna(measures.quantity_measure, inplace=True)\n",
    "measures.drop(columns=['quantity_measure'], inplace=True)"
   ]
  },
  {
   "cell_type": "code",
   "execution_count": 22,
   "metadata": {},
   "outputs": [],
   "source": [
    "measures.to_csv('data/various/countermeasures-by-tag.csv', index=False)"
   ]
  }
 ],
 "metadata": {
  "file_extension": ".py",
  "kernelspec": {
   "display_name": "Python 3",
   "language": "python",
   "name": "python3"
  },
  "language_info": {
   "codemirror_mode": {
    "name": "ipython",
    "version": 3
   },
   "file_extension": ".py",
   "mimetype": "text/x-python",
   "name": "python",
   "nbconvert_exporter": "python",
   "pygments_lexer": "ipython3",
   "version": "3.6.8"
  },
  "mimetype": "text/x-python",
  "name": "python",
  "npconvert_exporter": "python",
  "pygments_lexer": "ipython3",
  "version": 3
 },
 "nbformat": 4,
 "nbformat_minor": 2
}

{
 "cells": [
  {
   "cell_type": "code",
   "execution_count": 1,
   "metadata": {},
   "outputs": [],
   "source": [
    "import re\n",
    "import json\n",
    "\n",
    "import pandas as pd\n",
    "from notion.block import CollectionViewBlock\n",
    "\n",
    "import helpers"
   ]
  },
  {
   "cell_type": "code",
   "execution_count": 58,
   "metadata": {},
   "outputs": [
    {
     "data": {
      "text/plain": [
       "<module 'helpers' from '/Users/jrw/epidemics/containment/helpers.py'>"
      ]
     },
     "execution_count": 58,
     "metadata": {},
     "output_type": "execute_result"
    }
   ],
   "source": [
    "from imp import reload\n",
    "reload(helpers)"
   ]
  },
  {
   "cell_type": "code",
   "execution_count": 2,
   "metadata": {},
   "outputs": [],
   "source": [
    "MEASURES_DB_URL = 'https://www.notion.so/977d5e5be0434bf996704ec361ad621d?v=fe54f89ca9e04ac799af42b39e1efc4b'\n",
    "COMPLETENESS_DB_URL = 'https://www.notion.so/dbf0f4ffc03f4417a16d65a6d08eea69?v=845ef4baafd44e72b9c483381b90caae'"
   ]
  },
  {
   "cell_type": "code",
   "execution_count": 3,
   "metadata": {},
   "outputs": [],
   "source": [
    "client = helpers.get_notion_client()"
   ]
  },
  {
   "cell_type": "code",
   "execution_count": 88,
   "metadata": {},
   "outputs": [],
   "source": [
    "tags = pd.read_csv('data/tags.csv')"
   ]
  },
  {
   "cell_type": "code",
   "execution_count": 4,
   "metadata": {},
   "outputs": [],
   "source": [
    "measures_db = client.get_block(MEASURES_DB_URL)\n",
    "completeness_db = client.get_block(COMPLETENESS_DB_URL)"
   ]
  },
  {
   "cell_type": "code",
   "execution_count": null,
   "metadata": {},
   "outputs": [],
   "source": [
    "# Notion API seems to take a long time with large tables\n",
    "measures = helpers.df_from_notion_table(measures_db)"
   ]
  },
  {
   "cell_type": "code",
   "execution_count": 59,
   "metadata": {},
   "outputs": [],
   "source": [
    "completeness = helpers.df_from_notion_table(\n",
    "    completeness_db)[['country', 'complete_up_to_date']].dropna()"
   ]
  },
  {
   "cell_type": "code",
   "execution_count": 93,
   "metadata": {},
   "outputs": [],
   "source": [
    "md = measures.dropna()"
   ]
  },
  {
   "cell_type": "code",
   "execution_count": 68,
   "metadata": {},
   "outputs": [],
   "source": [
    "cm = measures.merge(completeness, on='country')"
   ]
  },
  {
   "cell_type": "code",
   "execution_count": 106,
   "metadata": {},
   "outputs": [],
   "source": [
    "cm = cm[cm.keywords.apply(len) > 0]"
   ]
  },
  {
   "cell_type": "code",
   "execution_count": 108,
   "metadata": {},
   "outputs": [
    {
     "data": {
      "text/plain": [
       "1967"
      ]
     },
     "execution_count": 108,
     "metadata": {},
     "output_type": "execute_result"
    }
   ],
   "source": [
    "cm.keywords.apply(len).sum()"
   ]
  },
  {
   "cell_type": "code",
   "execution_count": 109,
   "metadata": {},
   "outputs": [
    {
     "data": {
      "text/plain": [
       "1288"
      ]
     },
     "execution_count": 109,
     "metadata": {},
     "output_type": "execute_result"
    }
   ],
   "source": [
    "len(cm)"
   ]
  },
  {
   "cell_type": "code",
   "execution_count": 101,
   "metadata": {},
   "outputs": [
    {
     "data": {
      "text/plain": [
       "target_region                                                                        []\n",
       "source                                https://www.hongkongfp.com/2020/03/21/breaking...\n",
       "keywords                              [public mask and hygiene supply, social distan...\n",
       "country                                                                       Hong Kong\n",
       "date_end_intended                                                   2020-04-24 00:00:00\n",
       "implementing_state_province                                                          []\n",
       "target_state                                                                           \n",
       "implementing_city_municipality                                                       []\n",
       "target_city                                                                            \n",
       "applies_to                                                                             \n",
       "date_start                                                          2020-03-21 00:00:00\n",
       "exceptions                                                                             \n",
       "description_of_measure_implemented    - The exams for the Hong Kong Diploma of Secon...\n",
       "quantity                                                                            NaN\n",
       "target_country                                                                       []\n",
       "id                                                                                     \n",
       "complete_up_to_date                                                 2020-03-27 00:00:00\n",
       "Name: 262, dtype: object"
      ]
     },
     "execution_count": 101,
     "metadata": {},
     "output_type": "execute_result"
    }
   ],
   "source": [
    "cm.loc[262]"
   ]
  },
  {
   "cell_type": "code",
   "execution_count": 145,
   "metadata": {},
   "outputs": [
    {
     "data": {
      "text/plain": [
       "5             [Ischgl]\n",
       "89                  []\n",
       "105            [Daegu]\n",
       "106            [gunpo]\n",
       "108            [Daegu]\n",
       "             ...      \n",
       "1249                []\n",
       "1255                []\n",
       "1296          [Bansko]\n",
       "1302           [Sofia]\n",
       "1321    [Vatican City]\n",
       "Name: implementing_city_municipality, Length: 105, dtype: object"
      ]
     },
     "execution_count": 145,
     "metadata": {},
     "output_type": "execute_result"
    }
   ],
   "source": [
    "cm.implementing_city_municipality.apply(lambda x: None if len(x) == 0 else x).dropna()"
   ]
  },
  {
   "cell_type": "code",
   "execution_count": 149,
   "metadata": {},
   "outputs": [],
   "source": [
    "fields_to_use, renamed_fields = (list(cols) for cols in zip(\n",
    "#     ('id', 'id'), # not reliable\n",
    "    ('country', 'country'),\n",
    "#     # maybe worth adding these:\n",
    "#     ('implementing_state_province', 'state_or_province'),\n",
    "#     ('implementing_city_municipality', 'municipality'),\n",
    "#     ('target_country', 'target_country'),\n",
    "    ('description_of_measure_implemented', 'description'),\n",
    "    ('source', 'source'),\n",
    "    ('date_start', 'start_date'),\n",
    "    ('date_end_intended', 'end_date'),\n",
    "    ('quantity', 'quantity'),\n",
    "    ('keywords', 'tags')\n",
    "))\n",
    "\n",
    "# other columns were not include b/c too few rows have\n",
    "# data to bother programming them into the frontend"
   ]
  },
  {
   "cell_type": "code",
   "execution_count": 150,
   "metadata": {},
   "outputs": [],
   "source": [
    "mc2 = cm[fields_to_use].copy()\n",
    "mc2.columns = renamed_fields"
   ]
  },
  {
   "cell_type": "code",
   "execution_count": 152,
   "metadata": {},
   "outputs": [],
   "source": [
    "def expand_tags(measures):\n",
    "    tagged_rows = []\n",
    "    for _, measure in measures.iterrows():\n",
    "        for tag in measure['tags']:\n",
    "            row = dict(tag=tag, **measure.to_dict())\n",
    "            del row['tags']\n",
    "            tagged_rows.append(row)\n",
    "    return pd.DataFrame(tagged_rows)"
   ]
  },
  {
   "cell_type": "code",
   "execution_count": 154,
   "metadata": {},
   "outputs": [],
   "source": [
    "tagged = expand_tags(mc2)"
   ]
  },
  {
   "cell_type": "code",
   "execution_count": 156,
   "metadata": {},
   "outputs": [
    {
     "data": {
      "text/plain": [
       "array(['max', 'sum unique', None, 'min', 'check notes'], dtype=object)"
      ]
     },
     "execution_count": 156,
     "metadata": {},
     "output_type": "execute_result"
    }
   ],
   "source": [
    "tags.aggregation.unique()"
   ]
  },
  {
   "cell_type": "code",
   "execution_count": 214,
   "metadata": {},
   "outputs": [],
   "source": [
    "def get_default_quantities():\n",
    "    quant_map = tags[['tag', 'quantity']].drop_duplicates(subset=['tag'], keep='last')\n",
    "    quantities = quant_map.quantity[\n",
    "        quant_map.quantity.str.match(r'[\\d.]+').fillna(False)].astype('f')\n",
    "    quant_map['quantity'] = None\n",
    "    quant_map.quantity.fillna(quantities, inplace=True)\n",
    "    return quant_map"
   ]
  },
  {
   "cell_type": "code",
   "execution_count": 215,
   "metadata": {},
   "outputs": [],
   "source": [
    "quantified = tagged.merge(get_default_quantities(), on='tag', suffixes=('_measure', ''))\n",
    "\n",
    "quantified.quantity.fillna(quantified.quantity_measure, inplace=True)\n",
    "quantified.drop(columns=['quantity_measure'], inplace=True)"
   ]
  },
  {
   "cell_type": "code",
   "execution_count": 222,
   "metadata": {},
   "outputs": [
    {
     "data": {
      "text/html": [
       "<div>\n",
       "<style scoped>\n",
       "    .dataframe tbody tr th:only-of-type {\n",
       "        vertical-align: middle;\n",
       "    }\n",
       "\n",
       "    .dataframe tbody tr th {\n",
       "        vertical-align: top;\n",
       "    }\n",
       "\n",
       "    .dataframe thead th {\n",
       "        text-align: right;\n",
       "    }\n",
       "</style>\n",
       "<table border=\"1\" class=\"dataframe\">\n",
       "  <thead>\n",
       "    <tr style=\"text-align: right;\">\n",
       "      <th></th>\n",
       "      <th>tag</th>\n",
       "      <th>country</th>\n",
       "      <th>description</th>\n",
       "      <th>source</th>\n",
       "      <th>start_date</th>\n",
       "      <th>end_date</th>\n",
       "      <th>quantity</th>\n",
       "    </tr>\n",
       "  </thead>\n",
       "  <tbody>\n",
       "  </tbody>\n",
       "</table>\n",
       "</div>"
      ],
      "text/plain": [
       "Empty DataFrame\n",
       "Columns: [tag, country, description, source, start_date, end_date, quantity]\n",
       "Index: []"
      ]
     },
     "execution_count": 222,
     "metadata": {},
     "output_type": "execute_result"
    }
   ],
   "source": [
    "quantified[quantified.description.str.match(r'\\b[Xx]\\b')]"
   ]
  },
  {
   "cell_type": "code",
   "execution_count": 228,
   "metadata": {},
   "outputs": [],
   "source": [
    "def measures_to_api_object(measures):\n",
    "    return {**helpers.get_api_metadata(client),\n",
    "            'data': {'containment_measures': list(measures.T.to_dict().values())}}"
   ]
  },
  {
   "cell_type": "code",
   "execution_count": null,
   "metadata": {},
   "outputs": [],
   "source": []
  }
 ],
 "metadata": {
  "file_extension": ".py",
  "kernelspec": {
   "display_name": "Python 3",
   "language": "python",
   "name": "python3"
  },
  "language_info": {
   "codemirror_mode": {
    "name": "ipython",
    "version": 3
   },
   "file_extension": ".py",
   "mimetype": "text/x-python",
   "name": "python",
   "nbconvert_exporter": "python",
   "pygments_lexer": "ipython3",
   "version": "3.6.8"
  },
  "mimetype": "text/x-python",
  "name": "python",
  "npconvert_exporter": "python",
  "pygments_lexer": "ipython3",
  "version": 3
 },
 "nbformat": 4,
 "nbformat_minor": 2
}

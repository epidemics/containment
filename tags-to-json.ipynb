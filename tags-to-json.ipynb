{
 "cells": [
  {
   "cell_type": "code",
   "execution_count": 1,
   "metadata": {},
   "outputs": [],
   "source": [
    "import pandas as pd\n",
    "import numpy as np\n",
    "import re"
   ]
  },
  {
   "cell_type": "code",
   "execution_count": 3,
   "metadata": {},
   "outputs": [],
   "source": [
    "from notion.client import NotionClient\n",
    "from notion.block import CollectionViewBlock"
   ]
  },
  {
   "cell_type": "code",
   "execution_count": 4,
   "metadata": {},
   "outputs": [],
   "source": [
    "# You'll need to find and store your Notion token for this. When logged\n",
    "# into Notion, look in the web console for a cookie named \"token_v2\".\n",
    "# Copy the contents into a file in this directory named .notion-token\n",
    "\n",
    "with open('.notion-token', 'r') as token_file:\n",
    "    NOTION_TOKEN = token_file.read().strip()\n",
    "    \n",
    "client = NotionClient(token_v2=NOTION_TOKEN)"
   ]
  },
  {
   "cell_type": "code",
   "execution_count": 93,
   "metadata": {},
   "outputs": [],
   "source": [
    "tag_hierarchy_page = client.get_block(\n",
    "    'https://www.notion.so/Tag-hierarchy-Features-db9799312efa4f88851e8d49393bbb16')"
   ]
  },
  {
   "cell_type": "code",
   "execution_count": 94,
   "metadata": {},
   "outputs": [],
   "source": [
    "tag_tables = [child for child in tag_hierarchy_page.children\n",
    "          if isinstance(child, CollectionViewBlock)\n",
    "          and child.title != 'Unhandled']"
   ]
  },
  {
   "cell_type": "code",
   "execution_count": 95,
   "metadata": {},
   "outputs": [],
   "source": [
    "def get_feature_df(tag_table):\n",
    "    rows = tag_table.collection.get_rows()\n",
    "    df = pd.DataFrame([row.get_all_properties() for row in rows])\n",
    "    df['category'] = tag_table.title\n",
    "    df = df[df.tags.apply(len) != 0] # leave out rows that have no tags\n",
    "    return df[['category', 'feature', 'tags', 'description', 'quantities']]"
   ]
  },
  {
   "cell_type": "code",
   "execution_count": 96,
   "metadata": {},
   "outputs": [],
   "source": [
    "features = pd.concat(\n",
    "    [get_feature_df(tag_table) for tag_table in tag_tables]).reset_index(drop=True)"
   ]
  },
  {
   "cell_type": "code",
   "execution_count": 88,
   "metadata": {},
   "outputs": [
    {
     "data": {
      "text/plain": [
       "{'natural village quarantine': 2}"
      ]
     },
     "execution_count": 88,
     "metadata": {},
     "output_type": "execute_result"
    }
   ],
   "source": [
    "counts = {}\n",
    "for feature in features.itertuples():\n",
    "    for tag in feature.tags:\n",
    "        counts[tag] = counts[tag] + 1 if tag in counts else 1\n",
    "\n",
    "{k:v for (k, v) in counts.items() if v > 1}"
   ]
  },
  {
   "cell_type": "code",
   "execution_count": 144,
   "metadata": {
    "scrolled": true
   },
   "outputs": [],
   "source": [
    "def get_tag_description(tag, description):\n",
    "    \"\"\" Some descriptions are subidivided for each tag.\n",
    "        Get only that tag's description if so. \"\"\"\n",
    "    match = re.search(f'[*_]{{2}}{tag}[*_:]{{3}}(.+)', description)\n",
    "    return match[1].strip() if match else description\n",
    "\n",
    "def get_tag_quantity(tag, quantities):\n",
    "    \"\"\" Logic for parsing quantity for each tag. \"\"\"\n",
    "    if quantities in ['1', '1 for all']:\n",
    "        return 1\n",
    "\n",
    "    match = re.search(f'{tag}: ([ \\\\d\\\\.]+)', quantities)\n",
    "    return float(match[1]) if match else quantities\n",
    "\n",
    "tags = []\n",
    "for feature in features.itertuples():\n",
    "    for tag in feature.tags:\n",
    "        tags.append({\n",
    "            'category': feature.category,\n",
    "            'feature': feature.feature,\n",
    "            'tag': tag,\n",
    "            'description': get_tag_description(tag, feature.description),\n",
    "            'quantity': get_tag_quantity(tag, feature.quantities)\n",
    "        })\n",
    "\n",
    "tags = pd.DataFrame(tags)"
   ]
  },
  {
   "cell_type": "code",
   "execution_count": 145,
   "metadata": {},
   "outputs": [
    {
     "data": {
      "text/html": [
       "<div>\n",
       "<style scoped>\n",
       "    .dataframe tbody tr th:only-of-type {\n",
       "        vertical-align: middle;\n",
       "    }\n",
       "\n",
       "    .dataframe tbody tr th {\n",
       "        vertical-align: top;\n",
       "    }\n",
       "\n",
       "    .dataframe thead th {\n",
       "        text-align: right;\n",
       "    }\n",
       "</style>\n",
       "<table border=\"1\" class=\"dataframe\">\n",
       "  <thead>\n",
       "    <tr style=\"text-align: right;\">\n",
       "      <th></th>\n",
       "      <th>category</th>\n",
       "      <th>feature</th>\n",
       "      <th>tag</th>\n",
       "      <th>description</th>\n",
       "      <th>quantity</th>\n",
       "    </tr>\n",
       "  </thead>\n",
       "  <tbody>\n",
       "    <tr>\n",
       "      <th>0</th>\n",
       "      <td>Isolation</td>\n",
       "      <td>Symptomatic isolation - targeted</td>\n",
       "      <td>contact isolation - symptoms</td>\n",
       "      <td>Close contacts of confirmed cases directed to ...</td>\n",
       "      <td>1</td>\n",
       "    </tr>\n",
       "    <tr>\n",
       "      <th>1</th>\n",
       "      <td>Isolation</td>\n",
       "      <td>Symptomatic isolation - targeted</td>\n",
       "      <td>cohort isolation - symptoms</td>\n",
       "      <td>__confirmed case isolation__: Isolation of con...</td>\n",
       "      <td>1</td>\n",
       "    </tr>\n",
       "    <tr>\n",
       "      <th>2</th>\n",
       "      <td>Isolation</td>\n",
       "      <td>Symptomatic isolation - blanket</td>\n",
       "      <td>cluster isolation - symptoms</td>\n",
       "      <td>Entire districts or large groups (e.g. every m...</td>\n",
       "      <td>1</td>\n",
       "    </tr>\n",
       "    <tr>\n",
       "      <th>3</th>\n",
       "      <td>Isolation</td>\n",
       "      <td>Symptomatic isolation - blanket</td>\n",
       "      <td>blanket isolation - symptoms</td>\n",
       "      <td>Entire cities or countries directed to isolate...</td>\n",
       "      <td>2</td>\n",
       "    </tr>\n",
       "    <tr>\n",
       "      <th>4</th>\n",
       "      <td>Isolation</td>\n",
       "      <td>Asymptomatic isolation - targeted</td>\n",
       "      <td>contact isolation - no symptoms</td>\n",
       "      <td>close contacts (i.e. more than 15 minutes of c...</td>\n",
       "      <td>1</td>\n",
       "    </tr>\n",
       "    <tr>\n",
       "      <th>...</th>\n",
       "      <td>...</td>\n",
       "      <td>...</td>\n",
       "      <td>...</td>\n",
       "      <td>...</td>\n",
       "      <td>...</td>\n",
       "    </tr>\n",
       "    <tr>\n",
       "      <th>93</th>\n",
       "      <td>Testing and contact tracing</td>\n",
       "      <td>Tracing technology</td>\n",
       "      <td>bracelet based location tracking</td>\n",
       "      <td>Technology to improve the efficacy of contact ...</td>\n",
       "      <td>Compliance (percentage of people using the tec...</td>\n",
       "    </tr>\n",
       "    <tr>\n",
       "      <th>94</th>\n",
       "      <td>Testing and contact tracing</td>\n",
       "      <td>Tracing technology</td>\n",
       "      <td>phone based location tracing</td>\n",
       "      <td>Technology to improve the efficacy of contact ...</td>\n",
       "      <td>Compliance (percentage of people using the tec...</td>\n",
       "    </tr>\n",
       "    <tr>\n",
       "      <th>95</th>\n",
       "      <td>Testing and contact tracing</td>\n",
       "      <td>Tracing technology</td>\n",
       "      <td>public transport occupancy tracing</td>\n",
       "      <td>Technology to improve the efficacy of contact ...</td>\n",
       "      <td>Compliance (percentage of people using the tec...</td>\n",
       "    </tr>\n",
       "    <tr>\n",
       "      <th>96</th>\n",
       "      <td>Testing and contact tracing</td>\n",
       "      <td>Diagnostic criteria loosened</td>\n",
       "      <td>diagnostic criteria loosened</td>\n",
       "      <td>Record when changes are made to diagnostic cri...</td>\n",
       "      <td>1</td>\n",
       "    </tr>\n",
       "    <tr>\n",
       "      <th>97</th>\n",
       "      <td>Testing and contact tracing</td>\n",
       "      <td>Diagnostic criteria tightened</td>\n",
       "      <td>diagnostic criteria tightened</td>\n",
       "      <td>Record when changes are made to diagnostic cri...</td>\n",
       "      <td>1</td>\n",
       "    </tr>\n",
       "  </tbody>\n",
       "</table>\n",
       "<p>98 rows × 5 columns</p>\n",
       "</div>"
      ],
      "text/plain": [
       "                       category                            feature  \\\n",
       "0                     Isolation   Symptomatic isolation - targeted   \n",
       "1                     Isolation   Symptomatic isolation - targeted   \n",
       "2                     Isolation    Symptomatic isolation - blanket   \n",
       "3                     Isolation    Symptomatic isolation - blanket   \n",
       "4                     Isolation  Asymptomatic isolation - targeted   \n",
       "..                          ...                                ...   \n",
       "93  Testing and contact tracing                 Tracing technology   \n",
       "94  Testing and contact tracing                 Tracing technology   \n",
       "95  Testing and contact tracing                 Tracing technology   \n",
       "96  Testing and contact tracing       Diagnostic criteria loosened   \n",
       "97  Testing and contact tracing      Diagnostic criteria tightened   \n",
       "\n",
       "                                   tag  \\\n",
       "0         contact isolation - symptoms   \n",
       "1          cohort isolation - symptoms   \n",
       "2         cluster isolation - symptoms   \n",
       "3         blanket isolation - symptoms   \n",
       "4      contact isolation - no symptoms   \n",
       "..                                 ...   \n",
       "93    bracelet based location tracking   \n",
       "94        phone based location tracing   \n",
       "95  public transport occupancy tracing   \n",
       "96        diagnostic criteria loosened   \n",
       "97       diagnostic criteria tightened   \n",
       "\n",
       "                                          description  \\\n",
       "0   Close contacts of confirmed cases directed to ...   \n",
       "1   __confirmed case isolation__: Isolation of con...   \n",
       "2   Entire districts or large groups (e.g. every m...   \n",
       "3   Entire cities or countries directed to isolate...   \n",
       "4   close contacts (i.e. more than 15 minutes of c...   \n",
       "..                                                ...   \n",
       "93  Technology to improve the efficacy of contact ...   \n",
       "94  Technology to improve the efficacy of contact ...   \n",
       "95  Technology to improve the efficacy of contact ...   \n",
       "96  Record when changes are made to diagnostic cri...   \n",
       "97  Record when changes are made to diagnostic cri...   \n",
       "\n",
       "                                             quantity  \n",
       "0                                                   1  \n",
       "1                                                   1  \n",
       "2                                                   1  \n",
       "3                                                   2  \n",
       "4                                                   1  \n",
       "..                                                ...  \n",
       "93  Compliance (percentage of people using the tec...  \n",
       "94  Compliance (percentage of people using the tec...  \n",
       "95  Compliance (percentage of people using the tec...  \n",
       "96                                                  1  \n",
       "97                                                  1  \n",
       "\n",
       "[98 rows x 5 columns]"
      ]
     },
     "execution_count": 145,
     "metadata": {},
     "output_type": "execute_result"
    }
   ],
   "source": [
    "tags"
   ]
  }
 ],
 "metadata": {
  "file_extension": ".py",
  "kernelspec": {
   "display_name": "Python 3",
   "language": "python",
   "name": "python3"
  },
  "language_info": {
   "codemirror_mode": {
    "name": "ipython",
    "version": 3
   },
   "file_extension": ".py",
   "mimetype": "text/x-python",
   "name": "python",
   "nbconvert_exporter": "python",
   "pygments_lexer": "ipython3",
   "version": "3.6.8"
  },
  "mimetype": "text/x-python",
  "name": "python",
  "npconvert_exporter": "python",
  "pygments_lexer": "ipython3",
  "version": 3
 },
 "nbformat": 4,
 "nbformat_minor": 2
}

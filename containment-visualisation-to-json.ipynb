{
 "cells": [
  {
   "cell_type": "code",
   "execution_count": 1,
   "metadata": {},
   "outputs": [],
   "source": [
    "import json\n",
    "import pandas as pd\n",
    "import numpy as np"
   ]
  },
  {
   "cell_type": "code",
   "execution_count": 2,
   "metadata": {},
   "outputs": [],
   "source": [
    "cmap = json.load(open('country-mapping.json'))"
   ]
  },
  {
   "cell_type": "code",
   "execution_count": 3,
   "metadata": {},
   "outputs": [
    {
     "output_type": "execute_result",
     "data": {
      "text/plain": "dict_keys(['mask-wearing', 'isolation', 'gatherings', 'businesses', 'schools', 'social', 'testing', 'curfew', 'Date'])"
     },
     "metadata": {},
     "execution_count": 3
    }
   ],
   "source": [
    "DATE = \"2020_04_05_\"\n",
    "g = pd.read_csv(f'interventions_visualisation_semiquantified_{DATE}.csv').groupby(\"Country\")\n",
    "df = g.get_group(\"Italy\").drop(columns=[\"Country\"])\n",
    "df.to_dict('list').keys()"
   ]
  },
  {
   "cell_type": "code",
   "execution_count": 10,
   "metadata": {},
   "outputs": [
    {
     "output_type": "execute_result",
     "data": {
      "text/plain": "{'mask-wearing': [{'date': '2019-12-18', 'value': 0.0}],\n 'isolation': [{'date': '2019-12-18', 'value': 'none'}],\n 'gatherings': [{'date': '2019-12-18', 'value': 0},\n  {'date': '2020-02-22', 'value': 100},\n  {'date': '2020-03-20', 'value': 10}],\n 'businesses': [{'date': '2019-12-18', 'value': 'none'},\n  {'date': '2020-02-22', 'value': 'some'},\n  {'date': '2020-03-11', 'value': 'many'}],\n 'schools': [{'date': '2019-12-18', 'value': 0.0},\n  {'date': '2020-02-22', 'value': 2.0},\n  {'date': '2020-02-25', 'value': 3.0}],\n 'social': [{'date': '2019-12-18', 'value': 'none'},\n  {'date': '2020-02-23', 'value': 'distancing'}],\n 'testing': [{'date': '2019-12-18', 'value': 0.0},\n  {'date': '2020-03-20', 'value': 100000.0}],\n 'curfew': [{'date': '2019-12-18', 'value': 'none'},\n  {'date': '2020-02-22', 'value': 'general'},\n  {'date': '2020-03-07', 'value': 'strict'}]}"
     },
     "metadata": {},
     "execution_count": 10
    }
   ],
   "source": [
    "final_d = {}\n",
    "for name, group in g:\n",
    "    iso = cmap['US'] if name.startswith('US:') else cmap[name]\n",
    "    df = group.set_index(\"Date\").drop(columns=[\"Country\"])\n",
    "\n",
    "    final_d[iso] = {}\n",
    "    for key in df:\n",
    "        final_d[iso][key] = [{\"date\": date, \"value\": delta} for date, delta in df[key].drop_duplicates().items()]\n",
    "\n",
    "final_d[\"ITA\"]"
   ]
  },
  {
   "cell_type": "code",
   "execution_count": 9,
   "metadata": {},
   "outputs": [],
   "source": [
    "with open('data-testing-containments.json', \"w\") as ofile:\n",
    "    json.dump(final_d, ofile)"
   ]
  }
 ],
 "metadata": {
  "kernelspec": {
   "display_name": "Python 3",
   "language": "python",
   "name": "python3"
  },
  "language_info": {
   "codemirror_mode": {
    "name": "ipython",
    "version": 3
   },
   "file_extension": ".py",
   "mimetype": "text/x-python",
   "name": "python",
   "nbconvert_exporter": "python",
   "pygments_lexer": "ipython3",
   "version": "3.7.5-final"
  }
 },
 "nbformat": 4,
 "nbformat_minor": 4
}